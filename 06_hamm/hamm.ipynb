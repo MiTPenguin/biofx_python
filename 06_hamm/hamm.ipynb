{
 "cells": [
  {
   "cell_type": "code",
   "execution_count": 6,
   "metadata": {},
   "outputs": [],
   "source": [
    "seq1 = \"ACTG\"\n",
    "seq2 = \"ACT\""
   ]
  },
  {
   "cell_type": "code",
   "execution_count": 7,
   "metadata": {},
   "outputs": [
    {
     "name": "stdout",
     "output_type": "stream",
     "text": [
      "1\n"
     ]
    }
   ],
   "source": [
    "distance = abs(len(seq1) - len(seq2))\n",
    "print(distance)"
   ]
  },
  {
   "cell_type": "code",
   "execution_count": 8,
   "metadata": {},
   "outputs": [
    {
     "name": "stdout",
     "output_type": "stream",
     "text": [
      "0\n"
     ]
    }
   ],
   "source": [
    "hamm = 0\n",
    "for ind in range(min(len(seq1), len(seq2))):\n",
    "    if seq1[ind] != seq2[ind]:\n",
    "        hamm += 1\n",
    "\n",
    "print(hamm)\n",
    "\n",
    "difference = distance + hamm"
   ]
  },
  {
   "cell_type": "code",
   "execution_count": 1,
   "metadata": {},
   "outputs": [
    {
     "name": "stdout",
     "output_type": "stream",
     "text": [
      "3\n"
     ]
    }
   ],
   "source": [
    "# test using zip functions\n",
    "from itertools import zip_longest\n",
    "list(zip_longest('ABD',\"EEE\"))\n",
    "\n",
    "hamm = 0\n",
    "seq1 = \"ACTG\"\n",
    "seq2 = \"AAA\"\n",
    "for char1, char2 in zip_longest(seq1, seq2):\n",
    "    if char1 != char2:\n",
    "        hamm += 1\n",
    "\n",
    "print(hamm)\n"
   ]
  },
  {
   "cell_type": "code",
   "execution_count": 16,
   "metadata": {},
   "outputs": [
    {
     "name": "stdout",
     "output_type": "stream",
     "text": [
      "3\n"
     ]
    }
   ],
   "source": [
    "hamm = [1 if c1 != c2 else 0 for c1, c2 in zip_longest(seq1,seq2)]\n",
    "\n",
    "print(sum(hamm))"
   ]
  },
  {
   "cell_type": "code",
   "execution_count": 2,
   "metadata": {},
   "outputs": [
    {
     "data": {
      "text/plain": [
       "[('C', 'A'), ('T', 'A'), ('G', None)]"
      ]
     },
     "execution_count": 2,
     "metadata": {},
     "output_type": "execute_result"
    }
   ],
   "source": [
    "list(filter(lambda t: t[0] != t[1], zip_longest(seq1, seq2)))"
   ]
  },
  {
   "cell_type": "code",
   "execution_count": 5,
   "metadata": {},
   "outputs": [
    {
     "ename": "SyntaxError",
     "evalue": "invalid syntax (3696967647.py, line 1)",
     "output_type": "error",
     "traceback": [
      "\u001b[1;36m  Cell \u001b[1;32mIn[5], line 1\u001b[1;36m\u001b[0m\n\u001b[1;33m    [i for i in *('A','C')]\u001b[0m\n\u001b[1;37m                ^\u001b[0m\n\u001b[1;31mSyntaxError\u001b[0m\u001b[1;31m:\u001b[0m invalid syntax\n"
     ]
    }
   ],
   "source": [
    "[i for i in *('A','C')]"
   ]
  }
 ],
 "metadata": {
  "kernelspec": {
   "display_name": "biorx_py",
   "language": "python",
   "name": "python3"
  },
  "language_info": {
   "codemirror_mode": {
    "name": "ipython",
    "version": 3
   },
   "file_extension": ".py",
   "mimetype": "text/x-python",
   "name": "python",
   "nbconvert_exporter": "python",
   "pygments_lexer": "ipython3",
   "version": "3.10.12"
  },
  "orig_nbformat": 4
 },
 "nbformat": 4,
 "nbformat_minor": 2
}
