{
 "cells": [
  {
   "cell_type": "code",
   "execution_count": 1,
   "metadata": {},
   "outputs": [],
   "source": [
    "seq = \"ABCDEF\""
   ]
  },
  {
   "cell_type": "code",
   "execution_count": 5,
   "metadata": {},
   "outputs": [],
   "source": [
    "codon_to_aa = {\n",
    "        'AAA': 'K', 'AAC': 'N', 'AAG': 'K', 'AAU': 'N', 'ACA': 'T',\n",
    "        'ACC': 'T', 'ACG': 'T', 'ACU': 'T', 'AGA': 'R', 'AGC': 'S',\n",
    "        'AGG': 'R', 'AGU': 'S', 'AUA': 'I', 'AUC': 'I', 'AUG': 'M',\n",
    "        'AUU': 'I', 'CAA': 'Q', 'CAC': 'H', 'CAG': 'Q', 'CAU': 'H',\n",
    "        'CCA': 'P', 'CCC': 'P', 'CCG': 'P', 'CCU': 'P', 'CGA': 'R',\n",
    "        'CGC': 'R', 'CGG': 'R', 'CGU': 'R', 'CUA': 'L', 'CUC': 'L',\n",
    "        'CUG': 'L', 'CUU': 'L', 'GAA': 'E', 'GAC': 'D', 'GAG': 'E',\n",
    "        'GAU': 'D', 'GCA': 'A', 'GCC': 'A', 'GCG': 'A', 'GCU': 'A',\n",
    "        'GGA': 'G', 'GGC': 'G', 'GGG': 'G', 'GGU': 'G', 'GUA': 'V',\n",
    "        'GUC': 'V', 'GUG': 'V', 'GUU': 'V', 'UAC': 'Y', 'UAU': 'Y',\n",
    "        'UCA': 'S', 'UCC': 'S', 'UCG': 'S', 'UCU': 'S', 'UGC': 'C',\n",
    "        'UGG': 'W', 'UGU': 'C', 'UUA': 'L', 'UUC': 'F', 'UUG': 'L',\n",
    "        'UUU': 'F', 'UAA': '*', 'UAG': '*', 'UGA': '*',\n",
    "    }"
   ]
  },
  {
   "cell_type": "code",
   "execution_count": 7,
   "metadata": {},
   "outputs": [
    {
     "name": "stdout",
     "output_type": "stream",
     "text": [
      "[(0, 3), (3, 6)]\n",
      "['ABC', 'DEF']\n"
     ]
    }
   ],
   "source": [
    "start_stop = [(i, i+3) for i in range(0, len(seq), 3)]\n",
    "print(start_stop)\n",
    "\n",
    "codons = [seq[tup[0]:tup[1]] for tup in start_stop]\n",
    "print(codons)\n",
    "\n"
   ]
  },
  {
   "cell_type": "code",
   "execution_count": 11,
   "metadata": {},
   "outputs": [
    {
     "name": "stdout",
     "output_type": "stream",
     "text": [
      "MAMAPRTEINSTRING*\n"
     ]
    }
   ],
   "source": [
    "seq = 'AUGGCCAUGGCGCCCAGAACUGAGAUCAAUAGUACCCGUAUUAACGGGUGA'\n",
    "\n",
    "start_stop = [(i, i+3) for i in range(0, len(seq), 3)]\n",
    "\n",
    "codons = [seq[tup[0]:tup[1]] for tup in start_stop]\n",
    "\n",
    "rna = [codon_to_aa[condon] for condon in codons]\n",
    "\n",
    "output = ''.join(rna)\n",
    "\n",
    "print(output)\n"
   ]
  },
  {
   "cell_type": "code",
   "execution_count": 12,
   "metadata": {},
   "outputs": [],
   "source": [
    "def cat(filename):\n",
    "        return open(filename).read().rstrip()"
   ]
  },
  {
   "cell_type": "code",
   "execution_count": 14,
   "metadata": {},
   "outputs": [
    {
     "data": {
      "text/plain": [
       "'MFCRRVPPSPLSNGLSIKRHRVSSASRRNASVGEVCWMLRIVAVEIDTILCYDNILVRGNIDQYLISYLLVAGVGYLYTPDERAFEDFVGMFVHRLKQLGNQRIVARLRLISSLRQSFVRSLRIMLMGRAWSGTGAAPPKFFAIEWAGWGSLVVRPTPIVLLVACHSIYYAAPSYAGQLLLFYKSRFTPDSVLFHNCPYGLTGHVALAIRAEFARSIWNPRAGPCLPIQIVPEASVCIKVSSAVRSCTRGRCLPKEGFDLVEGFAKRPICSCHARWRWWATRTLRDDLSNLGLNAWIGEAGVKWLHVLWGRTHPQARQNGTRLTAGAAFAHVESAVVGLWYGVETLSNSEHTDTALPTVYNKESSWGFDDSPIMAAVLVNLSSALDGVVLSHRCNRMVSWTTCLVLKSYTSKRSIHGKYSKASGRTRLSVEITAQRIRHRRCFKLKLVLASIKHRMRITRLLLIPVMAKSEPFDHKYLYLVGASRFHPARFTMPVNRCCESQSVDSASKTSHIYRLGSTNLHFMKYIGSLSLPNHKNSGVRIPSPKNYSMPPIKVGSKDQWETLRPQFSTCQVYGNSCENQQFQLAASLQLFASRETKLSGSTSSLSQREIKYGWLTAVSTAKNADTSAQVWLCKIALDLLYVTWGRETYLLGPLCLSSSPTSLSSPFKAVGVGALGVNIHTRLRTLTFKLGSKFVVSVLAGRKATRTASHECTIADLDYIHVVSGFAVHIHASEISPLLLETSDIIFVPMRMNVTCFPDLDSAFVFWSNRKSALTAHGNTLGLTKRQNNPDIILSGLPLHYDVLCPDGRCESSPYLKRVLLHRYPTRCPWLCHHANFNRYTVTDKSPEWGGHNSDHTSMCQKMLLNQTGDYEARITRFGPEDIPLHIPNCYIFSLERRVTQARMPRAWCVQPQRSLLIGRSEFNRVLNQASLHRDFRRPISVSLSTRYGDAGRRGIKFEMPLCATMIWINSVTRRTILAKQLLVIGWDSPASECRRFELGRPTYDIANCWPVTGRQRHPTTATIVIVRYRLSRVISRNCMQSSVVLRHSRLHLYSFKTRCGVTWVVSATLPSVLGICGDFEAISLGRNKRTGDKRVVLRRTATGRILRARRLDAGVDPTERYTLPSRTPWWLQRTSLSFASAHILGKIDLVKRSRPLEQTIREFAGGSMSTGCDDLYALKSPPRARNSLSDYLNYAWFGGQLYPARLDVSPDNCPEIRKTGKTLPSLKIDIGAPDAARSCELIQYTYHTGSVLTLRQSLSLKHGICIVHVTRGLHRNLAGSMGGWNLPVQLPRLYAATQNADRAGLIASKDMDLCDCSRLQASFPLVCMEQPLRGSRAAAVDAFLDHLFENADEPTLGCMRPSHYFTNETRHTAPRARAMWVRRPGVFVFQRPTARVVKERSPGGTVPSGGFVTTHIVVTLFGGAHRLTLRLLTHNTPQCLEMARQDLIIHARTNEWRISMADNLRDNTYSNTSAVVLGSPLPRPTLRCGCDSHASHGRIPDSAAKSHEFSTARTGGKRTGGSSEYLLELFGRHLVECNNLPGATSIVRRINNFLHWVRTPARITGFRPLSGDIWSIPPLVFLYTLGSVGTRYGEHGSVLPACRAFFTRIILSDWLFITVNIWGGALAILLRLIAGRINTRHRSRLPRGVLVSFDTHSCSVASHDTQSTILHLSPRKPEASPKAIGLDASGNLRPSWANKTQEGQILLRSLSAVYSIHHDLVNPSWSHPHYSHQTIDCKHHLRVRIRPPRPLRHHKDTQYWRSAWLTDYGYPPKTAEALRDRKHPTDKPDFRECCERPKLVGYLLIFNGVGYAPSAWRIGTRGGRLSVTRPLSHWEKRGGPAAPQNLPICSILLDTGLFYGVSLMYHETMLCSAPVLDRSNLTCLHSLWCVPSTDQYTQVENEYFNRALLPRESTHTVSDYKTWEGPSAFPVFYVLLRRSFKISAYLSQGVNGRPLTDHGLSPGNPEQASRGDSEISRKKGQPRADSTSKQFKKGSRIEQTPLSTKVHCTSTIAWGRARQRQRFNPRLRGRYIARIIYRTERLVRFSAIFLISFLLRRPGNWARYGLMKHVPRFGDQGPKWIPGSASIVYPSYSMPLQFLRRQSSMNTDDVPHILVIGYKYRPETKLTLMQTYHCSSWLHFILIARCANFEYIQERRRYIHGIWLRMLSRPNHRRSLRVTAKEKPPYGRNKFELLSARQIVNLPTSVRWGRQRRIPCMPRNYLIHGLAVPSLARLTSHPRRVVDLQLPLIADVLDPGGWGITIGRSSELRPSEVARLFVVATFDYPPGEVCVRLTRLAVAHLPLSLPTCASRPLRMAPDRTLQMTPSKLVAHCKINNYVGSMSESLEPCCTCSFYAQPYNPACIRVKSITWDMTRLVYQRDWLTTQFGQKVRALAYGSLDQLITDFEASSRPWRRPVRTYHLGTSRACPHSVGIEAYVIHPLDSDMVRAVPVRAKCELLGPEPHRIAPQATSSMILECIMIIYNPELCHSSLLDSVRLVKRPLLVSSTILENPYCREPFVVYKGKLAFNCECGGSPGELLTLASTRDWVPGTGRSGFGTLSDIEDKIVNSRWIWTYGAEYRTGHRLLLRGLSHSNVGTCAGGARLGHVQYESQAADFIRRSAGDPHYLTNLSQMAGYRCPRDGFYQTDALTHLHCETLHNWRKVDPTTSISPLSMRVVLESCYYRLTAPVLRRLRFPHTNIHRLIESNCLIIVTIPRMPYTLRFNCGSRSNEPSGPQLKPYEPKPLADQGDRVVPVTWSPELEIKLIRPTPSVGRDAFGMELHQSEADLRVTNPLRTKWILLGDPVHEIRTHFCQGSPSRISDTSSSNLGSLKLECTCTPGS'"
      ]
     },
     "execution_count": 14,
     "metadata": {},
     "output_type": "execute_result"
    }
   ],
   "source": [
    "TEST1 = ('./tests/inputs/input1.txt', './tests/inputs/input1.txt.out')\n",
    "\n",
    "cat(TEST1[1])"
   ]
  },
  {
   "cell_type": "code",
   "execution_count": 17,
   "metadata": {},
   "outputs": [],
   "source": [
    "from subprocess import getstatusoutput, getoutput\n",
    "import platform"
   ]
  },
  {
   "cell_type": "code",
   "execution_count": 18,
   "metadata": {},
   "outputs": [],
   "source": [
    "PRG = './prot.py'\n",
    "RUN = f'python {PRG}' if platform.system() == 'Windows' else PRG\n",
    "TEST1 = ('./tests/inputs/input1.txt', './tests/inputs/input1.txt.out') # I believe this output is into cmmd, not powershell."
   ]
  },
  {
   "cell_type": "code",
   "execution_count": 21,
   "metadata": {},
   "outputs": [],
   "source": [
    "out = getoutput(f'{RUN} {cat(TEST1[0])}',  )"
   ]
  },
  {
   "cell_type": "code",
   "execution_count": 24,
   "metadata": {},
   "outputs": [
    {
     "data": {
      "text/plain": [
       "'AUGUUUUGCC'"
      ]
     },
     "execution_count": 24,
     "metadata": {},
     "output_type": "execute_result"
    }
   ],
   "source": [
    "cat(TEST1[0])[0:10]"
   ]
  },
  {
   "cell_type": "code",
   "execution_count": 23,
   "metadata": {},
   "outputs": [
    {
     "name": "stdout",
     "output_type": "stream",
     "text": [
      "Help on function getoutput in module subprocess:\n",
      "\n",
      "getoutput(cmd)\n",
      "    Return output (stdout or stderr) of executing cmd in a shell.\n",
      "    \n",
      "    Like getstatusoutput(), except the exit status is ignored and the return\n",
      "    value is a string containing the command's output.  Example:\n",
      "    \n",
      "    >>> import subprocess\n",
      "    >>> subprocess.getoutput('ls /bin/ls')\n",
      "    '/bin/ls'\n",
      "\n"
     ]
    }
   ],
   "source": [
    "help(getoutput)"
   ]
  },
  {
   "cell_type": "code",
   "execution_count": 22,
   "metadata": {},
   "outputs": [
    {
     "data": {
      "text/plain": [
       "'The command line is too long.'"
      ]
     },
     "execution_count": 22,
     "metadata": {},
     "output_type": "execute_result"
    }
   ],
   "source": [
    "out\n",
    "# weird. i guess we can't bdo it if it's "
   ]
  },
  {
   "cell_type": "code",
   "execution_count": 25,
   "metadata": {},
   "outputs": [],
   "source": [
    "import prot"
   ]
  },
  {
   "cell_type": "code",
   "execution_count": 34,
   "metadata": {},
   "outputs": [
    {
     "name": "stdout",
     "output_type": "stream",
     "text": [
      "['M', 'B']\n",
      "['M', 'B']\n"
     ]
    }
   ],
   "source": [
    "# we want to practice using functions from prot\n",
    "from itertools import takewhile\n",
    "\n",
    "test_seq = ['M','B','*','C']\n",
    "\n",
    "print(list(takewhile(lambda aa: aa != '*', test_seq)))\n",
    "\n",
    "import operator\n",
    "from functools import partial\n",
    "\n",
    "not_stop = partial(operator.ne, '*')\n",
    "\n",
    "print(list(takewhile(not_stop, test_seq)))\n",
    "\n"
   ]
  }
 ],
 "metadata": {
  "kernelspec": {
   "display_name": "biorx_py",
   "language": "python",
   "name": "python3"
  },
  "language_info": {
   "codemirror_mode": {
    "name": "ipython",
    "version": 3
   },
   "file_extension": ".py",
   "mimetype": "text/x-python",
   "name": "python",
   "nbconvert_exporter": "python",
   "pygments_lexer": "ipython3",
   "version": "3.10.12"
  }
 },
 "nbformat": 4,
 "nbformat_minor": 2
}
